{
 "cells": [
  {
   "cell_type": "code",
   "execution_count": 1,
   "metadata": {},
   "outputs": [
    {
     "ename": "KeyboardInterrupt",
     "evalue": "",
     "output_type": "error",
     "traceback": [
      "\u001b[1;31m---------------------------------------------------------------------------\u001b[0m",
      "\u001b[1;31mFileNotFoundError\u001b[0m                         Traceback (most recent call last)",
      "\u001b[1;32mE:\\MyPrograms\\Anaconda3\\lib\\site-packages\\matplotlib\\font_manager.py\u001b[0m in \u001b[0;36m<module>\u001b[1;34m\u001b[0m\n\u001b[0;32m   1355\u001b[0m         \u001b[1;32mtry\u001b[0m\u001b[1;33m:\u001b[0m\u001b[1;33m\u001b[0m\u001b[1;33m\u001b[0m\u001b[0m\n\u001b[1;32m-> 1356\u001b[1;33m             \u001b[0mfontManager\u001b[0m \u001b[1;33m=\u001b[0m \u001b[0mjson_load\u001b[0m\u001b[1;33m(\u001b[0m\u001b[0m_fmcache\u001b[0m\u001b[1;33m)\u001b[0m\u001b[1;33m\u001b[0m\u001b[1;33m\u001b[0m\u001b[0m\n\u001b[0m\u001b[0;32m   1357\u001b[0m             if (not hasattr(fontManager, '_version') or\n",
      "\u001b[1;32mE:\\MyPrograms\\Anaconda3\\lib\\site-packages\\matplotlib\\font_manager.py\u001b[0m in \u001b[0;36mjson_load\u001b[1;34m(filename)\u001b[0m\n\u001b[0;32m    890\u001b[0m     \"\"\"\n\u001b[1;32m--> 891\u001b[1;33m     \u001b[1;32mwith\u001b[0m \u001b[0mopen\u001b[0m\u001b[1;33m(\u001b[0m\u001b[0mfilename\u001b[0m\u001b[1;33m,\u001b[0m \u001b[1;34m'r'\u001b[0m\u001b[1;33m)\u001b[0m \u001b[1;32mas\u001b[0m \u001b[0mfh\u001b[0m\u001b[1;33m:\u001b[0m\u001b[1;33m\u001b[0m\u001b[1;33m\u001b[0m\u001b[0m\n\u001b[0m\u001b[0;32m    892\u001b[0m         \u001b[1;32mreturn\u001b[0m \u001b[0mjson\u001b[0m\u001b[1;33m.\u001b[0m\u001b[0mload\u001b[0m\u001b[1;33m(\u001b[0m\u001b[0mfh\u001b[0m\u001b[1;33m,\u001b[0m \u001b[0mobject_hook\u001b[0m\u001b[1;33m=\u001b[0m\u001b[0m_json_decode\u001b[0m\u001b[1;33m)\u001b[0m\u001b[1;33m\u001b[0m\u001b[1;33m\u001b[0m\u001b[0m\n",
      "\u001b[1;31mFileNotFoundError\u001b[0m: [Errno 2] No such file or directory: 'C:\\\\Users\\\\carnival\\\\.matplotlib\\\\fontlist-v300.json'",
      "\nDuring handling of the above exception, another exception occurred:\n",
      "\u001b[1;31mKeyboardInterrupt\u001b[0m                         Traceback (most recent call last)",
      "\u001b[1;32m<ipython-input-1-77667ca028f8>\u001b[0m in \u001b[0;36m<module>\u001b[1;34m\u001b[0m\n\u001b[0;32m      2\u001b[0m \u001b[1;32mimport\u001b[0m \u001b[0msympy\u001b[0m \u001b[1;32mas\u001b[0m \u001b[0msp\u001b[0m\u001b[1;33m\u001b[0m\u001b[1;33m\u001b[0m\u001b[0m\n\u001b[0;32m      3\u001b[0m \u001b[1;33m\u001b[0m\u001b[0m\n\u001b[1;32m----> 4\u001b[1;33m \u001b[1;32mimport\u001b[0m \u001b[0mmatplotlib\u001b[0m\u001b[1;33m.\u001b[0m\u001b[0mpyplot\u001b[0m \u001b[1;32mas\u001b[0m \u001b[0mplt\u001b[0m\u001b[1;33m\u001b[0m\u001b[1;33m\u001b[0m\u001b[0m\n\u001b[0m\u001b[0;32m      5\u001b[0m \u001b[0mget_ipython\u001b[0m\u001b[1;33m(\u001b[0m\u001b[1;33m)\u001b[0m\u001b[1;33m.\u001b[0m\u001b[0mrun_line_magic\u001b[0m\u001b[1;33m(\u001b[0m\u001b[1;34m'matplotlib'\u001b[0m\u001b[1;33m,\u001b[0m \u001b[1;34m'inline'\u001b[0m\u001b[1;33m)\u001b[0m\u001b[1;33m\u001b[0m\u001b[1;33m\u001b[0m\u001b[0m\n\u001b[0;32m      6\u001b[0m \u001b[1;33m\u001b[0m\u001b[0m\n",
      "\u001b[1;32mE:\\MyPrograms\\Anaconda3\\lib\\site-packages\\matplotlib\\pyplot.py\u001b[0m in \u001b[0;36m<module>\u001b[1;34m\u001b[0m\n\u001b[0;32m     30\u001b[0m \u001b[1;32mfrom\u001b[0m \u001b[0mcycler\u001b[0m \u001b[1;32mimport\u001b[0m \u001b[0mcycler\u001b[0m\u001b[1;33m\u001b[0m\u001b[1;33m\u001b[0m\u001b[0m\n\u001b[0;32m     31\u001b[0m \u001b[1;32mimport\u001b[0m \u001b[0mmatplotlib\u001b[0m\u001b[1;33m\u001b[0m\u001b[1;33m\u001b[0m\u001b[0m\n\u001b[1;32m---> 32\u001b[1;33m \u001b[1;32mimport\u001b[0m \u001b[0mmatplotlib\u001b[0m\u001b[1;33m.\u001b[0m\u001b[0mcolorbar\u001b[0m\u001b[1;33m\u001b[0m\u001b[1;33m\u001b[0m\u001b[0m\n\u001b[0m\u001b[0;32m     33\u001b[0m \u001b[1;32mimport\u001b[0m \u001b[0mmatplotlib\u001b[0m\u001b[1;33m.\u001b[0m\u001b[0mimage\u001b[0m\u001b[1;33m\u001b[0m\u001b[1;33m\u001b[0m\u001b[0m\n\u001b[0;32m     34\u001b[0m \u001b[1;32mfrom\u001b[0m \u001b[0mmatplotlib\u001b[0m \u001b[1;32mimport\u001b[0m \u001b[0mrcsetup\u001b[0m\u001b[1;33m,\u001b[0m \u001b[0mstyle\u001b[0m\u001b[1;33m\u001b[0m\u001b[1;33m\u001b[0m\u001b[0m\n",
      "\u001b[1;32mE:\\MyPrograms\\Anaconda3\\lib\\site-packages\\matplotlib\\colorbar.py\u001b[0m in \u001b[0;36m<module>\u001b[1;34m\u001b[0m\n\u001b[0;32m     30\u001b[0m \u001b[1;32mimport\u001b[0m \u001b[0mmatplotlib\u001b[0m\u001b[1;33m.\u001b[0m\u001b[0mcollections\u001b[0m \u001b[1;32mas\u001b[0m \u001b[0mcollections\u001b[0m\u001b[1;33m\u001b[0m\u001b[1;33m\u001b[0m\u001b[0m\n\u001b[0;32m     31\u001b[0m \u001b[1;32mimport\u001b[0m \u001b[0mmatplotlib\u001b[0m\u001b[1;33m.\u001b[0m\u001b[0mcolors\u001b[0m \u001b[1;32mas\u001b[0m \u001b[0mcolors\u001b[0m\u001b[1;33m\u001b[0m\u001b[1;33m\u001b[0m\u001b[0m\n\u001b[1;32m---> 32\u001b[1;33m \u001b[1;32mimport\u001b[0m \u001b[0mmatplotlib\u001b[0m\u001b[1;33m.\u001b[0m\u001b[0mcontour\u001b[0m \u001b[1;32mas\u001b[0m \u001b[0mcontour\u001b[0m\u001b[1;33m\u001b[0m\u001b[1;33m\u001b[0m\u001b[0m\n\u001b[0m\u001b[0;32m     33\u001b[0m \u001b[1;32mimport\u001b[0m \u001b[0mmatplotlib\u001b[0m\u001b[1;33m.\u001b[0m\u001b[0mcm\u001b[0m \u001b[1;32mas\u001b[0m \u001b[0mcm\u001b[0m\u001b[1;33m\u001b[0m\u001b[1;33m\u001b[0m\u001b[0m\n\u001b[0;32m     34\u001b[0m \u001b[1;32mimport\u001b[0m \u001b[0mmatplotlib\u001b[0m\u001b[1;33m.\u001b[0m\u001b[0mgridspec\u001b[0m \u001b[1;32mas\u001b[0m \u001b[0mgridspec\u001b[0m\u001b[1;33m\u001b[0m\u001b[1;33m\u001b[0m\u001b[0m\n",
      "\u001b[1;32mE:\\MyPrograms\\Anaconda3\\lib\\site-packages\\matplotlib\\contour.py\u001b[0m in \u001b[0;36m<module>\u001b[1;34m\u001b[0m\n\u001b[0;32m     16\u001b[0m \u001b[1;32mimport\u001b[0m \u001b[0mmatplotlib\u001b[0m\u001b[1;33m.\u001b[0m\u001b[0mcolors\u001b[0m \u001b[1;32mas\u001b[0m \u001b[0mmcolors\u001b[0m\u001b[1;33m\u001b[0m\u001b[1;33m\u001b[0m\u001b[0m\n\u001b[0;32m     17\u001b[0m \u001b[1;32mimport\u001b[0m \u001b[0mmatplotlib\u001b[0m\u001b[1;33m.\u001b[0m\u001b[0mcollections\u001b[0m \u001b[1;32mas\u001b[0m \u001b[0mmcoll\u001b[0m\u001b[1;33m\u001b[0m\u001b[1;33m\u001b[0m\u001b[0m\n\u001b[1;32m---> 18\u001b[1;33m \u001b[1;32mimport\u001b[0m \u001b[0mmatplotlib\u001b[0m\u001b[1;33m.\u001b[0m\u001b[0mfont_manager\u001b[0m \u001b[1;32mas\u001b[0m \u001b[0mfont_manager\u001b[0m\u001b[1;33m\u001b[0m\u001b[1;33m\u001b[0m\u001b[0m\n\u001b[0m\u001b[0;32m     19\u001b[0m \u001b[1;32mimport\u001b[0m \u001b[0mmatplotlib\u001b[0m\u001b[1;33m.\u001b[0m\u001b[0mtext\u001b[0m \u001b[1;32mas\u001b[0m \u001b[0mtext\u001b[0m\u001b[1;33m\u001b[0m\u001b[1;33m\u001b[0m\u001b[0m\n\u001b[0;32m     20\u001b[0m \u001b[1;32mimport\u001b[0m \u001b[0mmatplotlib\u001b[0m\u001b[1;33m.\u001b[0m\u001b[0mcbook\u001b[0m \u001b[1;32mas\u001b[0m \u001b[0mcbook\u001b[0m\u001b[1;33m\u001b[0m\u001b[1;33m\u001b[0m\u001b[0m\n",
      "\u001b[1;32mE:\\MyPrograms\\Anaconda3\\lib\\site-packages\\matplotlib\\font_manager.py\u001b[0m in \u001b[0;36m<module>\u001b[1;34m\u001b[0m\n\u001b[0;32m   1364\u001b[0m             \u001b[1;32mraise\u001b[0m\u001b[1;33m\u001b[0m\u001b[1;33m\u001b[0m\u001b[0m\n\u001b[0;32m   1365\u001b[0m         \u001b[1;32mexcept\u001b[0m \u001b[0mException\u001b[0m\u001b[1;33m:\u001b[0m\u001b[1;33m\u001b[0m\u001b[1;33m\u001b[0m\u001b[0m\n\u001b[1;32m-> 1366\u001b[1;33m             \u001b[0m_rebuild\u001b[0m\u001b[1;33m(\u001b[0m\u001b[1;33m)\u001b[0m\u001b[1;33m\u001b[0m\u001b[1;33m\u001b[0m\u001b[0m\n\u001b[0m\u001b[0;32m   1367\u001b[0m     \u001b[1;32melse\u001b[0m\u001b[1;33m:\u001b[0m\u001b[1;33m\u001b[0m\u001b[1;33m\u001b[0m\u001b[0m\n\u001b[0;32m   1368\u001b[0m         \u001b[0m_rebuild\u001b[0m\u001b[1;33m(\u001b[0m\u001b[1;33m)\u001b[0m\u001b[1;33m\u001b[0m\u001b[1;33m\u001b[0m\u001b[0m\n",
      "\u001b[1;32mE:\\MyPrograms\\Anaconda3\\lib\\site-packages\\matplotlib\\font_manager.py\u001b[0m in \u001b[0;36m_rebuild\u001b[1;34m()\u001b[0m\n\u001b[0;32m   1345\u001b[0m         \u001b[1;32mglobal\u001b[0m \u001b[0mfontManager\u001b[0m\u001b[1;33m\u001b[0m\u001b[1;33m\u001b[0m\u001b[0m\n\u001b[0;32m   1346\u001b[0m \u001b[1;33m\u001b[0m\u001b[0m\n\u001b[1;32m-> 1347\u001b[1;33m         \u001b[0mfontManager\u001b[0m \u001b[1;33m=\u001b[0m \u001b[0mFontManager\u001b[0m\u001b[1;33m(\u001b[0m\u001b[1;33m)\u001b[0m\u001b[1;33m\u001b[0m\u001b[1;33m\u001b[0m\u001b[0m\n\u001b[0m\u001b[0;32m   1348\u001b[0m \u001b[1;33m\u001b[0m\u001b[0m\n\u001b[0;32m   1349\u001b[0m         \u001b[1;32mif\u001b[0m \u001b[0m_fmcache\u001b[0m\u001b[1;33m:\u001b[0m\u001b[1;33m\u001b[0m\u001b[1;33m\u001b[0m\u001b[0m\n",
      "\u001b[1;32mE:\\MyPrograms\\Anaconda3\\lib\\site-packages\\matplotlib\\font_manager.py\u001b[0m in \u001b[0;36m__init__\u001b[1;34m(self, size, weight)\u001b[0m\n\u001b[0;32m    984\u001b[0m              if fname.lower().endswith(\"dejavusans.ttf\")),\n\u001b[0;32m    985\u001b[0m             ttffiles[0])\n\u001b[1;32m--> 986\u001b[1;33m         \u001b[0mself\u001b[0m\u001b[1;33m.\u001b[0m\u001b[0mttflist\u001b[0m \u001b[1;33m=\u001b[0m \u001b[0mcreateFontList\u001b[0m\u001b[1;33m(\u001b[0m\u001b[0mttffiles\u001b[0m\u001b[1;33m)\u001b[0m\u001b[1;33m\u001b[0m\u001b[1;33m\u001b[0m\u001b[0m\n\u001b[0m\u001b[0;32m    987\u001b[0m \u001b[1;33m\u001b[0m\u001b[0m\n\u001b[0;32m    988\u001b[0m         afmfiles = (findSystemFonts(paths, fontext='afm')\n",
      "\u001b[1;32mE:\\MyPrograms\\Anaconda3\\lib\\site-packages\\matplotlib\\font_manager.py\u001b[0m in \u001b[0;36mcreateFontList\u001b[1;34m(fontfiles, fontext)\u001b[0m\n\u001b[0;32m    495\u001b[0m         \u001b[1;32melse\u001b[0m\u001b[1;33m:\u001b[0m\u001b[1;33m\u001b[0m\u001b[1;33m\u001b[0m\u001b[0m\n\u001b[0;32m    496\u001b[0m             \u001b[1;32mtry\u001b[0m\u001b[1;33m:\u001b[0m\u001b[1;33m\u001b[0m\u001b[1;33m\u001b[0m\u001b[0m\n\u001b[1;32m--> 497\u001b[1;33m                 \u001b[0mfont\u001b[0m \u001b[1;33m=\u001b[0m \u001b[0mft2font\u001b[0m\u001b[1;33m.\u001b[0m\u001b[0mFT2Font\u001b[0m\u001b[1;33m(\u001b[0m\u001b[0mfpath\u001b[0m\u001b[1;33m)\u001b[0m\u001b[1;33m\u001b[0m\u001b[1;33m\u001b[0m\u001b[0m\n\u001b[0m\u001b[0;32m    498\u001b[0m             \u001b[1;32mexcept\u001b[0m \u001b[0mRuntimeError\u001b[0m\u001b[1;33m:\u001b[0m\u001b[1;33m\u001b[0m\u001b[1;33m\u001b[0m\u001b[0m\n\u001b[0;32m    499\u001b[0m                 \u001b[0m_log\u001b[0m\u001b[1;33m.\u001b[0m\u001b[0minfo\u001b[0m\u001b[1;33m(\u001b[0m\u001b[1;34m\"Could not open font file %s\"\u001b[0m\u001b[1;33m,\u001b[0m \u001b[0mfpath\u001b[0m\u001b[1;33m)\u001b[0m\u001b[1;33m\u001b[0m\u001b[1;33m\u001b[0m\u001b[0m\n",
      "\u001b[1;31mKeyboardInterrupt\u001b[0m: "
     ]
    }
   ],
   "source": [
    "import numpy as np\n",
    "import sympy as sp\n",
    "\n",
    "import matplotlib.pyplot as plt\n",
    "%matplotlib inline\n",
    "\n",
    "import itertools\n",
    "\n",
    "from sympy.core.sympify import kernS, sympify\n",
    "from sympy import Symbol, symbols, var, apart, together, diff, lambdify"
   ]
  },
  {
   "cell_type": "markdown",
   "metadata": {},
   "source": [
    "# Part One.. Constrained Optimization\n",
    "### Penalty Method + Gradient Descent as inner optimizer"
   ]
  },
  {
   "cell_type": "code",
   "execution_count": 2,
   "metadata": {},
   "outputs": [],
   "source": [
    "def gradient_descent(obj_func, derivatives, optima, alpha = 0.01, epsilon = 0.0001, num_iter = 100, plot = False):\n",
    "    if plot:\n",
    "        function_values = [] \n",
    "    \n",
    "    for i in range(num_iter):\n",
    "        gradients = np.array([derivative.evalf(subs = optima) for derivative in derivatives])\n",
    "        steps = gradients * alpha\n",
    "        for key, step in zip(optima.keys(), steps):\n",
    "            optima[key] = optima[key] - step\n",
    "        if plot:\n",
    "            function_values.extend([obj_func.evalf(subs = optima)])           \n",
    "        if np.linalg.norm(gradients.astype(np.float64)) < epsilon:\n",
    "            break\n",
    "            \n",
    "    if plot:\n",
    "        function_values = np.array(function_values)\n",
    "        plt.plot(range(function_values.size), function_values)\n",
    "        \n",
    "    return gradients"
   ]
  },
  {
   "cell_type": "code",
   "execution_count": 3,
   "metadata": {},
   "outputs": [],
   "source": [
    "def optimization_penalty(function, constraints, mode = 'minimize', penalty_factor = 5, start_penalty = 0.005, num_iter = 5, plot = False):\n",
    "# params:\n",
    "# function: Objective function to maximize / minimize (Sympy equation)\n",
    "# constraints: Vector of constraints (Sympy equations)\n",
    "# mode: if function is required to maximize or minimize\n",
    "    working_solution = {k: np.random.rand()*4 for k in list(function.free_symbols)}  \n",
    "    print('Starting with:' + str(working_solution))\n",
    "    \n",
    "    penalties = np.zeros(len(constraints)) + start_penalty\n",
    "    if mode == 'maximize':\n",
    "        f2 = -1*function\n",
    "    else:\n",
    "        f2 = function\n",
    "    \n",
    "    for i in range(num_iter):\n",
    "        ## rescale penalties\n",
    "        penalties *= penalty_factor        \n",
    "        ## Reformulate Objective function\n",
    "        constraints_values = np.array([constraint.evalf(subs = working_solution) for constraint in constraints])\n",
    "        copy = np.array([eqn if value > 0 else sympify('0') for eqn, value in zip(constraints, constraints_values)])\n",
    "        obj_func = f2 + penalties.dot(np.square(copy))\n",
    "        ## compute the gradient function of the new Objective function\n",
    "        partial_derivatives = [obj_func.diff(sym) for sym in working_solution.keys()]\n",
    "        ## Call optimizer\n",
    "        gradients = gradient_descent(function, partial_derivatives, working_solution, plot = plot) \n",
    "\n",
    "    if plot:\n",
    "        plt.show()\n",
    "        \n",
    "    y = function.evalf(subs = working_solution) \n",
    "    constraints_values = np.array([constraint.evalf(subs = working_solution) for constraint in constraints])\n",
    "    \n",
    "    return y, constraints_values, working_solution"
   ]
  },
  {
   "cell_type": "code",
   "execution_count": 4,
   "metadata": {},
   "outputs": [
    {
     "name": "stdout",
     "output_type": "stream",
     "text": [
      "x**2 + y**2\n",
      "[x + 1 y - 2]\n",
      "Starting with:{x: 2.0618440801500038, y: 0.5566858517852737}\n"
     ]
    },
    {
     "data": {
      "image/png": "[encoded data removed]",
      "text/plain": [
       "<Figure size 432x288 with 1 Axes>"
      ]
     },
     "metadata": {},
     "output_type": "display_data"
    },
    {
     "name": "stdout",
     "output_type": "stream",
     "text": [
      "0.883317318168786\n",
      "[0.0601503759414393 -1.99995177377928]\n",
      "{x: -0.939849624058561, y: 4.82262207161910e-5}\n"
     ]
    }
   ],
   "source": [
    "test1 = sympify('x**2 + y**2') ## minimize\n",
    "constraints1 = np.array([sympify('x+1'), sympify('y-2')]) ## ie: should end up with x ~ -1, y ~ 0\n",
    "\n",
    "print(test1)\n",
    "print(constraints1)\n",
    "f_value, constraints_values, optima = optimization_penalty(test1, constraints1, plot = True)\n",
    "print(f_value)\n",
    "print(constraints_values)\n",
    "print(optima)"
   ]
  },
  {
   "cell_type": "code",
   "execution_count": 5,
   "metadata": {},
   "outputs": [
    {
     "name": "stdout",
     "output_type": "stream",
     "text": [
      "-x**2 - y**2\n",
      "[x + 2 -x - 4 y + 1]\n",
      "Starting with:{x: 3.8903741136111334, y: 2.782630597801321}\n"
     ]
    },
    {
     "data": {
      "image/png": "[encoded data removed]",
      "text/plain": [
       "<Figure size 432x288 with 1 Axes>"
      ]
     },
     "metadata": {},
     "output_type": "display_data"
    },
    {
     "name": "stdout",
     "output_type": "stream",
     "text": [
      "-4.41658038569153\n",
      "[0.120302069865050 -2.12030206986505 0.0601510349327872]\n",
      "{x: -1.87969793013495, y: -0.939848965067213}\n"
     ]
    }
   ],
   "source": [
    "test2 = sympify('-(x**2 + y**2)') ## maximize \n",
    "constraints2 = np.array([sympify('x + 2'), sympify('-x - 4'), sympify('y + 1')]) ## ie: should end up with x ~ -2, y ~ -1\n",
    "\n",
    "print(test2)\n",
    "print(constraints2)\n",
    "f_value, constraints_values, optima = optimization_penalty(test2, constraints2, mode = 'maximize', num_iter = 5, plot = True)\n",
    "print(f_value)\n",
    "print(constraints_values)\n",
    "print(optima)"
   ]
  },
  {
   "cell_type": "code",
   "execution_count": 6,
   "metadata": {},
   "outputs": [
    {
     "name": "stdout",
     "output_type": "stream",
     "text": [
      "x + 3*y - 2*z\n",
      "[x - 4 y - 2 -z + 1]\n",
      "Starting with:{x: 1.5075685049637961, y: 2.1047435031440087, z: 1.2430915295751226}\n"
     ]
    },
    {
     "data": {
      "image/png": "[encoded data removed]",
      "text/plain": [
       "<Figure size 432x288 with 1 Axes>"
      ]
     },
     "metadata": {},
     "output_type": "display_data"
    },
    {
     "name": "stdout",
     "output_type": "stream",
     "text": [
      "8.44800772335162\n",
      "[0.0320005483551133 0.0960016559473478 0.0640011035772332]\n",
      "{x: 4.03200054835511, y: 2.09600165594735, z: 0.935998896422767}\n"
     ]
    }
   ],
   "source": [
    "test3 = sympify('x + 3*y - 2*z') ## maximize\n",
    "constraints3 = np.array([sympify('x-4'), sympify('y - 2'), sympify('-z + 1')])## x ~ 4, y ~ 2, z ~ 1\n",
    "\n",
    "print(test3)\n",
    "print(constraints3)\n",
    "f_value, constraints_values, optima = optimization_penalty(test3, constraints3, mode = 'maximize', plot = True)\n",
    "print(f_value)\n",
    "print(constraints_values)\n",
    "print(optima)"
   ]
  },
  {
   "cell_type": "code",
   "execution_count": 5,
   "metadata": {},
   "outputs": [
    {
     "name": "stdout",
     "output_type": "stream",
     "text": [
      "Input Function to Maximize:\n",
      "1 / (1+x**2+y**2)\n",
      "Input number of constrains:\n",
      "2\n",
      "Input Constraints types (1:Equality, 2:Inequality(>=), 3:Inequality(<=)1 2\n",
      "2\n",
      "Input LHS of Constraint #1:\n",
      "x - 2\n",
      "Input LHS of Constraint #2:\n",
      "y - 1\n"
     ]
    }
   ],
   "source": [
    "## Must handle: Equality Constraints, Inequality Constraints, Bound COnstraints\n",
    "#--- max(constraint, 0) for x <= a inequalities\n",
    "#--- min(constraint, 0) for x >= a inequalities\n",
    "# Model inequalities as f(x...) <= 0\n",
    "# For Equality: function = abs(function)\n",
    "# For >= inequ: function = -1*function\n",
    "# For bound inequalities: ba3dein.\n",
    "EQUALITY = 1\n",
    "INEQUALITYGREATER = 2\n",
    "INEQUALITYSMALLER = 3\n",
    "func_str = input('Input Function to Maximize:\\n')\n",
    "function = sympify(func_str)\n",
    "num_constraints = int(input('Input number of constrains:\\n'))\n",
    "constraints_types = np.array([int(type) for type in input('Input Constraints types (1:Equality, 2:Inequality(>=), 3:Inequality(<=)').split()])\n",
    "print(constraints_types.size)\n",
    "constraints = []\n",
    "#-- Constraints always in form of [x+a (>=|<=|=) 0] so just input 'x+a'\n",
    "for i in range(num_constraints):\n",
    "    constraint = sympify(input('Input LHS of Constraint #%d:\\n' % (i+1)))\n",
    "    if constraints_types[i] == EQUALITY:\n",
    "        constraints.append(abs(constraint))\n",
    "    elif constraints_types[i] == INEQUALITYGREATER:\n",
    "        constraints.append(-1*constraint)\n",
    "    else:    \n",
    "        constraints.append(constraint)\n",
    "constraints = np.array(constraints)        "
   ]
  },
  {
   "cell_type": "code",
   "execution_count": null,
   "metadata": {},
   "outputs": [],
   "source": [
    "print(function)        \n",
    "print(constraints)\n",
    "f_value, constraints_values, optima = optimization_penalty(function, constraints, mode = 'maximize', plot = True)\n",
    "print(f_value)\n",
    "print(constraints_values)\n",
    "print(optima)"
   ]
  },
  {
   "cell_type": "markdown",
   "metadata": {},
   "source": [
    "# Part Two.. Unconstrained Optimization\n",
    "### Simulated Annealing"
   ]
  },
  {
   "cell_type": "code",
   "execution_count": 4,
   "metadata": {},
   "outputs": [],
   "source": [
    "def simulated_annealing(function, upper_bound = 3, lower_bound = -3, mode = 'minimize', cooling_factor = 0.8, num_iter = 5, num_samples = 20, plot = False, verbose = 0):\n",
    "# params:\n",
    "# function: Objective function to maximize, aka: System Energy / minimize (Sympy equation)\n",
    "# mode: if function is required to maximize or minimize\n",
    "\n",
    "    working_solution = {k: np.random.rand()*upper_bound+lower_bound for k in list(function.free_symbols)}\n",
    "    \n",
    "    kb = 1.0\n",
    "    if mode == 'minimize':\n",
    "        deltaE = sympify('newE - oldE')\n",
    "    else:\n",
    "        deltaE = sympify('oldE - newE')    \n",
    "    \n",
    "    samples = np.array([function.evalf(subs = {k: np.random.rand() for k in working_solution.keys()}) for i in range(num_samples)]) \n",
    "    t_initial = - kb*np.std(samples, dtype = np.float64) / np.log(0.7)\n",
    "\n",
    "    function_values = []\n",
    "    \n",
    "    t = t_initial\n",
    "    for i in range(num_iter):\n",
    "        for j in range(num_samples):\n",
    "            ## perturb current solution\n",
    "            point = {k: v + np.random.rand() - 0.5 for k, v in working_solution.items()}\n",
    "            dE = deltaE.evalf(subs = {'newE': function.evalf(subs = point), 'oldE': function.evalf(subs = working_solution)})\n",
    "            if dE > 0: ## Worse solution\n",
    "                ## Accept with probability\n",
    "                delta = function.evalf(subs = point) + function.evalf(subs = working_solution)\n",
    "                p = np.exp(np.array(-(kb*delta)/t).astype(np.float64))\n",
    "                if np.random.rand() < p:\n",
    "                    if verbose >= 1:\n",
    "                        print('Accepted worse solution, p= %4f' %(p))\n",
    "                    working_solution = point\n",
    "            else: ## Better Solution\n",
    "                ## Accept right away\n",
    "                if verbose >= 1:\n",
    "                    print('Accepted better solution')\n",
    "                working_solution = point\n",
    "            function_values.extend([function.evalf(subs = working_solution)])        \n",
    "        t = t_initial * (cooling_factor)**i \n",
    "        if verbose >= 1:\n",
    "            print(t, working_solution, function_values[-1])\n",
    "    if plot:\n",
    "        plt.plot(range(num_iter*num_samples), function_values)\n",
    "            \n",
    "    return working_solution, np.array(function_values)[-1]"
   ]
  },
  {
   "cell_type": "code",
   "execution_count": 5,
   "metadata": {},
   "outputs": [
    {
     "name": "stdout",
     "output_type": "stream",
     "text": [
      "1/(x**2 + y**2 + 1)\n",
      "{y: -0.027368174298009085, x: -0.016222855038518502}\n",
      "0.998988825518770\n"
     ]
    },
    {
     "data": {
      "image/png": "[encoded data removed]",
      "text/plain": [
       "<Figure size 432x288 with 1 Axes>"
      ]
     },
     "metadata": {},
     "output_type": "display_data"
    }
   ],
   "source": [
    "energy = sympify('1 / (1 + x**2 + y**2)')\n",
    "function_optima, function_value = simulated_annealing(energy, upper_bound = 1, lower_bound = -1, mode = 'maximize', plot = True)\n",
    "print(energy)\n",
    "print(function_optima)\n",
    "print(function_value)"
   ]
  },
  {
   "cell_type": "markdown",
   "metadata": {},
   "source": [
    "# Part Three.. Combinatoric Optimization\n",
    "### Genetic Algorithm for Traveling Salesman Problem"
   ]
  },
  {
   "cell_type": "code",
   "execution_count": 2,
   "metadata": {},
   "outputs": [],
   "source": [
    "class City:\n",
    "    \n",
    "    def __init__(self, iD, scale):\n",
    "        self.coords = np.array([np.random.rand()*scale, np.random.rand()*scale])\n",
    "        self.iD = iD\n",
    "        \n",
    "    def get_id(self):\n",
    "        return self.iD\n",
    "    \n",
    "    def get_coords(self):\n",
    "        return self.coords"
   ]
  },
  {
   "cell_type": "code",
   "execution_count": 3,
   "metadata": {},
   "outputs": [
    {
     "name": "stdout",
     "output_type": "stream",
     "text": [
      "1\n",
      "[16.18332157 10.36431753]\n"
     ]
    }
   ],
   "source": [
    "city = City(1, 20)\n",
    "print(city.get_id())\n",
    "print(city.get_coords())"
   ]
  },
  {
   "cell_type": "code",
   "execution_count": 4,
   "metadata": {},
   "outputs": [],
   "source": [
    "class Neighbourhood:\n",
    "    \n",
    "    def __init__(self, num_cities, scale):\n",
    "        self.num_cities = num_cities\n",
    "        self.scale = scale\n",
    "        self.cities = np.array([City(iD, self.scale) for iD in range(self.num_cities)])\n",
    "        self.distances = []\n",
    "        self.compute_distances()\n",
    "        \n",
    "    def compute_distances(self):\n",
    "        for i in range(self.num_cities):\n",
    "            for j in range(self.num_cities):\n",
    "                if i != j:\n",
    "                    self.distances.append(np.linalg.norm(self.cities[i].get_coords()-self.cities[j].get_coords())) \n",
    "                else:\n",
    "                    self.distances.append(self.scale**2) ## Really Large Value\n",
    "        self.distances = np.array(self.distances).reshape((self.num_cities, self.num_cities))        \n",
    "        \n",
    "    def show(self):\n",
    "        plt.scatter([city.get_coords()[0] for city in self.cities], [city.get_coords()[1] for city in self.cities])\n",
    "        plt.show()\n",
    "        "
   ]
  },
  {
   "cell_type": "code",
   "execution_count": 5,
   "metadata": {},
   "outputs": [
    {
     "data": {
      "image/png": "[encoded data removed]",
      "text/plain": [
       "<Figure size 432x288 with 1 Axes>"
      ]
     },
     "metadata": {},
     "output_type": "display_data"
    }
   ],
   "source": [
    "neighbourhood = Neighbourhood(20, 30)\n",
    "neighbourhood.show()"
   ]
  },
  {
   "cell_type": "code",
   "execution_count": 6,
   "metadata": {},
   "outputs": [],
   "source": [
    "class Individual:\n",
    "    \n",
    "    def __init__(self, size, parent1 = None, parent2 = None, set_gene = False):\n",
    "        if set_gene:\n",
    "            self.gene = np.arange(size)\n",
    "            np.random.shuffle(self.gene)\n",
    "        else:    \n",
    "            self.gene = np.zeros((size), dtype = np.int32) + int(size) ## An out of range index   \n",
    "        self.parent1 = parent1\n",
    "        self.parent2 = parent2\n",
    "        self.fitness = 0\n",
    "        self.distance = 0\n",
    "\n",
    "    def set_gene_subset(self, start_idx, end_idx, values):\n",
    "        ## Handle if end index is out of range (take start:end and 0:remainder)\n",
    "        if end_idx >= self.gene.size:\n",
    "            remainder = end_idx - self.gene.size\n",
    "            end_idx = self.gene.size\n",
    "            self.gene[0:remainder] = values[0:remainder]\n",
    "        self.gene[start_idx:end_idx] = values[start_idx:end_idx]\n",
    "        \n",
    "    def set_chromosome(self, idx, value):\n",
    "        self.gene[idx] = value \n",
    "    \n",
    "    def swap_chromosomes(self, idx1, idx2):\n",
    "        self.gene[idx1], self.gene[idx2] = self.gene[idx2], self.gene[idx1] \n",
    "        \n",
    "    def move_and_shift(self, idx1, idx2):\n",
    "        if idx2 < idx1:\n",
    "            idx1, idx2 = idx2, idx1           \n",
    "        moved = self.gene[idx2]\n",
    "        self.gene[idx1+1:idx2+1] = self.gene[idx1:idx2]\n",
    "        self.gene[idx1] = moved"
   ]
  },
  {
   "cell_type": "code",
   "execution_count": 7,
   "metadata": {},
   "outputs": [
    {
     "name": "stdout",
     "output_type": "stream",
     "text": [
      "[ 3 16  6 10  2 14  4 17  7  1 13  0 19 18  9 15  8 12 11  5]\n"
     ]
    }
   ],
   "source": [
    "np.random.seed(1)\n",
    "individual = Individual(20, set_gene = True)\n",
    "print(individual.gene)"
   ]
  },
  {
   "cell_type": "code",
   "execution_count": 8,
   "metadata": {},
   "outputs": [
    {
     "name": "stdout",
     "output_type": "stream",
     "text": [
      "[16  3  6 10  2 14  4 17  7  1 13  0 19 18  9 15 12  8  5 11]\n",
      "[16 10  3 14  6 14  4 17  7  1 13  0 19 18  9 15 12  8  5 11]\n",
      "[16 10  3 14  6  4  4 17  7  1 13  0 19 18  9 15 12  8  5 11]\n",
      "[16 10  3 14  6  4 14 17  7  1 13  0 19 18  9 15 12  8  5 11]\n",
      "[16 10  3 14  6 14  4 17  7  1 13  0 19 18  9 15 12  8  5 11]\n",
      "[16 10  3 14  6 14  4 17  7  1 13  0 19 18 11  9 15 12  8  5]\n",
      "[16 10  3 14  6 14  4 17  7  1 13  0 19 18 11  9 15 12  8  5]\n",
      "[16 10  3 14  6 14  4 17  7  1 13  0 19 18  5 11  9 15 12  8]\n"
     ]
    }
   ],
   "source": [
    "individual.set_gene_subset(16, 22, np.array([16, 3, 10, 6, 14, 2, 17, 4, 1, 7, 13, 0, 18, 19, 15, 9, 12, 8, 5, 11]))\n",
    "print(individual.gene)\n",
    "individual.set_gene_subset(1, 5, np.array([16, 10, 3, 14, 6, 2, 17, 4, 1, 7, 13, 0, 18, 19, 15, 9, 12, 8, 5, 11]))\n",
    "print(individual.gene)\n",
    "individual.set_chromosome(5, 4)\n",
    "print(individual.gene)\n",
    "individual.set_chromosome(6, 14)\n",
    "print(individual.gene)\n",
    "individual.swap_chromosomes(5, 6)\n",
    "print(individual.gene)\n",
    "individual.move_and_shift(14, 19)\n",
    "print(individual.gene)\n",
    "individual.move_and_shift(2, 2)\n",
    "print(individual.gene)\n",
    "individual.move_and_shift(19, 14)\n",
    "print(individual.gene)"
   ]
  },
  {
   "cell_type": "code",
   "execution_count": 9,
   "metadata": {},
   "outputs": [],
   "source": [
    "def brute_force(neighbourhood):\n",
    "    primary_permutation = np.arange(neighbourhood.num_cities)\n",
    "    permutations = np.array(list(itertools.permutations(primary_permutation)))\n",
    "    fitnesses = []\n",
    "    for permutation in permutations:\n",
    "        tour = [[permutation[i], permutation[(i+1) % permutation.size]] for i in range(permutation.size)]\n",
    "        tour_dist = np.sum([neighbourhood.distances[u][v] for u, v in tour])               \n",
    "        fitnesses.append((76.5*neighbourhood.scale*np.sqrt(neighbourhood.num_cities)) / tour_dist)\n",
    "    \n",
    "    fitnesses = np.array(fitnesses)\n",
    "    best_permutation = permutations[np.argmax(fitnesses)]\n",
    "    return best_permutation, np.max(fitnesses)"
   ]
  },
  {
   "cell_type": "code",
   "execution_count": 10,
   "metadata": {},
   "outputs": [
    {
     "data": {
      "image/png": "[encoded data removed]",
      "text/plain": [
       "<Figure size 432x288 with 1 Axes>"
      ]
     },
     "metadata": {},
     "output_type": "display_data"
    },
    {
     "name": "stdout",
     "output_type": "stream",
     "text": [
      "[0 2 1 5 3 4]\n",
      "113.06975463744942\n"
     ]
    }
   ],
   "source": [
    "np.random.seed(2)\n",
    "test_nhbr = Neighbourhood(6, 20)\n",
    "test_nhbr.show()\n",
    "best_permutation, best_fitness = brute_force(test_nhbr)\n",
    "print(best_permutation)\n",
    "print(best_fitness)"
   ]
  },
  {
   "cell_type": "code",
   "execution_count": 11,
   "metadata": {},
   "outputs": [],
   "source": [
    "class Genetic_Algorithm_TSP():\n",
    "    \n",
    "    def __init__(self, neighbourhood, max_generations = 10, confidence = 0.999, p_mutate = 0.35, p_vax = 0, vax_criteria = None, immune_selection = False, verbose = 0):\n",
    "        self.neighbourhood = neighbourhood\n",
    "        if self.neighbourhood.num_cities <= 5:\n",
    "            self.population_size = np.math.factorial(self.neighbourhood.num_cities)\n",
    "            self.max_generations = 0\n",
    "        else:\n",
    "            numerator = np.log(1-np.power(confidence, 1/self.neighbourhood.num_cities))\n",
    "            denominator = np.log((neighbourhood.num_cities-3) / (neighbourhood.num_cities-1))\n",
    "            self.population_size = int(np.ceil(numerator / denominator))\n",
    "            self.max_generations = max_generations    \n",
    "        self.popoulation = None\n",
    "        self.p_mutate = p_mutate\n",
    "        self.p_vax = p_vax\n",
    "        self.vax_criteria = vax_criteria\n",
    "        self.immune_selection = immune_selection\n",
    "        self.optimal_individual = None\n",
    "        self.T0 = 40\n",
    "        self.verbose = verbose\n",
    "        self.statistics = {\n",
    "            'mean_fitness': [],\n",
    "            'fittest_individual': [],\n",
    "            'best_fitness': [],\n",
    "            'best_distance': []\n",
    "        }\n",
    "\n",
    "    def solve(self):\n",
    "        self.generate_initial_population()\n",
    "        for k in range(self.max_generations):\n",
    "            Tk = np.log(self.T0/(k+1) + 1)\n",
    "            self.population.sort(key=lambda g: g.fitness, reverse=True)\n",
    "            self.optimal_individual = self.population[0]\n",
    "            fitnesses = [individual.fitness for individual in self.population]\n",
    "            probabilities = fitnesses / np.sum(fitnesses)\n",
    "            offspring = []\n",
    "            for i in range(len(self.population)):\n",
    "                p1_idx = np.random.choice(range(len(self.population)), p = probabilities)\n",
    "                p2 = (probabilities[p1_idx]/np.sum(probabilities.size - 1)) + np.delete(probabilities, p1_idx)\n",
    "                p2_idx = np.random.choice(np.setdiff1d(range(len(self.population)), p1_idx), p = p2)\n",
    "                parent1 = self.population[p1_idx]\n",
    "                parent2 = self.population[p2_idx]\n",
    "                child = self.create_child(parent1, parent2)\n",
    "                offspring.append(child)\n",
    "            offspring = np.array(offspring)\n",
    "            competitors = np.array(offspring)\n",
    "            if self.immune_selection:\n",
    "                for i in range(offspring.size):\n",
    "                    if np.random.rand() < p_vax:\n",
    "                        j = np.random.rand()*self.optimal_individual.size\n",
    "                        hj = optimal_individual.gene[j]\n",
    "                        self.vaccinate2(competitor[i], j, hj)\n",
    "                        if self.immune_test(competitor[i]):\n",
    "                            ## Replace the offspring with its parent ##---> Review this part\n",
    "                            competitors[i] = competitors[i].parent1\n",
    "            self.statistics['mean_fitness'].append(np.mean([individual.fitness for individual in self.population]))\n",
    "            self.statistics['fittest_individual'].append(self.optimal_individual)\n",
    "            self.annealing_selection(competitors, offspring, Tk)\n",
    "\n",
    "        return self.optimal_individual, self.statistics\n",
    "           \n",
    "    def generate_initial_population(self):  \n",
    "        self.population = [Individual(self.neighbourhood.num_cities, set_gene = True) for i in range(self.population_size)]\n",
    "        ## Calculate their fitnesses\n",
    "        for individual in self.population:\n",
    "            self.calculate_fitness(individual)\n",
    "        self.set_optimal_individual()  \n",
    "            \n",
    "    def crossover(self, parent1, parent2):\n",
    "    ## Take contiguous subset from parent1, fill rest from 2\n",
    "        p_inherit = parent1.fitness / (parent1.fitness + parent2.fitness)\n",
    "        if p_inherit < 0.5: ## parent 2 is fitter\n",
    "            parent1, parent2, = parent2, parent1\n",
    "            p_inherit = 1 - p_inherit\n",
    "            \n",
    "        child = Individual(self.neighbourhood.num_cities, parent1, parent2)        \n",
    "        subset = int(child.gene.size*p_inherit + 0.5)\n",
    "        start_idx = int(np.random.rand()*child.gene.size + 0.5)\n",
    "        end_idx = start_idx + subset\n",
    "        child.set_gene_subset(start_idx, end_idx, parent1.gene)\n",
    "        remaining = np.setdiff1d(parent2.gene, child.gene)\n",
    "        k = 0\n",
    "        for i in range(child.gene.size):\n",
    "            if child.gene[i] == child.gene.size: ## Not yet set gene\n",
    "                child.set_chromosome(i, remaining[k])\n",
    "                k += 1\n",
    "        if self.verbose >= 3:\n",
    "            print(p_inherit)\n",
    "            print(start_idx)\n",
    "            print(subset)\n",
    "            print(end_idx)\n",
    "            print(child.gene)     \n",
    "        return child        \n",
    "                              \n",
    "    def mutate(self, individual):\n",
    "    ## swap mutation given mutation probability p_mutate\n",
    "        swap_count = np.maximum(1, individual.gene.size / 5).astype(np.int32)\n",
    "        for i in range(swap_count):\n",
    "            if np.random.rand() < self.p_mutate:\n",
    "                idx1 = np.random.choice(range(individual.gene.size))\n",
    "                idx2 = np.random.choice(np.setdiff1d(range(individual.gene.size), idx1))\n",
    "                individual.swap_chromosomes(idx1, idx2)           \n",
    "                if self.verbose >= 3:\n",
    "                    print('Mutating..')\n",
    "                    print(idx1)\n",
    "                    print(idx2)\n",
    "                    print(individual.gene)\n",
    "        \n",
    "    def vaccinate1(self, individual):    \n",
    "    ## Based on domain knowledge - min distance to a certain city\n",
    "        city1, city2 = self.choose_cities(individual)\n",
    "        idx1 = (int(np.where(individual.gene == city1)[0]) + 1) % individual.gene.size\n",
    "        idx2 = int(np.where(individual.gene == city2)[0])\n",
    "        individual.move_and_shift(idx1, idx2)\n",
    "        if self.verbose >=3:\n",
    "            print('Vaccinating..')\n",
    "            print(city1)\n",
    "            print(idx1)\n",
    "            print(city2)\n",
    "            print(idx2)\n",
    "            print(individual.gene)\n",
    "           \n",
    "    def vaccinate2(self, individual, j, hj):\n",
    "    ## Self adaptive vaccination\n",
    "        prev = individual.gene[j]\n",
    "        individual.gene[np.where(individual.gene == hj)] = prev   \n",
    "        individual.gene[j] = hj\n",
    "    \n",
    "    def annealing_selection(self, competitors, offspring, Tk):\n",
    "        new_population = []\n",
    "        avg_fitness = np.mean([individual.fitness for individual in self.population])\n",
    "        for competitor, child in zip(competitors, offspring):\n",
    "            delta_fitness = competitor.fitness - avg_fitness\n",
    "            if delta_fitness > 0: ## Above Average Competitor\n",
    "                new_population.append(child)\n",
    "            elif np.random.rand() < np.exp(delta_fitness/Tk):\n",
    "                new_population.append(child)\n",
    "        from_prev_gen = len(self.population) - len(new_population)\n",
    "        new_population.extend(self.population[0:from_prev_gen])\n",
    "        self.population = new_population   \n",
    "        if self.verbose >= 1:\n",
    "            print('Tk = %1.6f' %(Tk))\n",
    "            print('Took %d from parents' %(from_prev_gen))\n",
    "     \n",
    "    def immune_test(self, individual):\n",
    "        return individual.fitness < individual.parent1.fitness\n",
    "        \n",
    "    def create_child(self, parent1, parent2):\n",
    "        child = self.crossover(parent1, parent2)\n",
    "        self.mutate(child)\n",
    "        self.vaccinate1(child)\n",
    "        self.calculate_fitness(child)\n",
    "        return child\n",
    "                        \n",
    "    def set_optimal_individual(self):\n",
    "        self.optimal_individual = self.population[np.argmax([individual.fitness for individual in self.population])]               \n",
    "                             \n",
    "    def calculate_fitness(self, individual):\n",
    "        tour = [[individual.gene[i], individual.gene[(i+1) % individual.gene.size]] for i in range(individual.gene.size)]\n",
    "        tour_dist = np.sum([self.neighbourhood.distances[u][v] for u, v in tour])      \n",
    "        individual.distance = tour_dist\n",
    "        individual.fitness = (76.5*self.neighbourhood.scale*np.sqrt(self.neighbourhood.num_cities)) / tour_dist \n",
    "    \n",
    "    def choose_cities(self, individual):\n",
    "        tour = [[individual.gene[i], individual.gene[(i+1) % individual.gene.size]] for i in range(individual.gene.size)]\n",
    "        ## This line will always get me (i) of city that is farthest from (i+1)%size\n",
    "        city1_idx  = individual.gene[np.argmax([self.neighbourhood.distances[u][v] for u, v in tour])]\n",
    "        city1 = individual.gene[city1_idx]\n",
    "        city2 = np.argmin(self.neighbourhood.distances[city1])\n",
    "        return city1, city2\n",
    "     \n",
    "    def show_tour(self):\n",
    "        return  "
   ]
  },
  {
   "cell_type": "code",
   "execution_count": 12,
   "metadata": {},
   "outputs": [
    {
     "name": "stdout",
     "output_type": "stream",
     "text": [
      "145\n"
     ]
    }
   ],
   "source": [
    "n = Neighbourhood(30, 20)\n",
    "ga = Genetic_Algorithm_TSP(n)\n",
    "print(ga.population_size)"
   ]
  },
  {
   "cell_type": "code",
   "execution_count": 13,
   "metadata": {},
   "outputs": [
    {
     "data": {
      "image/png": "[encoded data removed]",
      "text/plain": [
       "<Figure size 432x288 with 1 Axes>"
      ]
     },
     "metadata": {},
     "output_type": "display_data"
    },
    {
     "name": "stdout",
     "output_type": "stream",
     "text": [
      "[2 5 9 4 6 1 3 0 7 8]\n",
      "[8 0 2 3 7 9 6 5 1 4]\n",
      "[2 5 9 4 6 1 0 3 7 8]\n",
      "[2 5 9 4 6 1 0 3 7 8]\n",
      "[2 5 9 1 4 6 0 3 7 8]\n"
     ]
    }
   ],
   "source": [
    "np.random.seed(3)\n",
    "nhbr = Neighbourhood(10, 20)\n",
    "nhbr.show()\n",
    "parent1 = Individual(nhbr.num_cities, set_gene = True)\n",
    "parent1.fitness = 100\n",
    "parent2 = Individual(nhbr.num_cities, set_gene = True)\n",
    "parent2.fitness = 50\n",
    "print(parent1.gene)\n",
    "print(parent2.gene)\n",
    "ga = Genetic_Algorithm_TSP(nhbr)\n",
    "child = ga.crossover(parent1, parent2)\n",
    "print(child.gene)\n",
    "ga.mutate(child)\n",
    "print(child.gene)\n",
    "ga.vaccinate1(child)\n",
    "print(child.gene)"
   ]
  },
  {
   "cell_type": "code",
   "execution_count": 14,
   "metadata": {},
   "outputs": [
    {
     "data": {
      "image/png": "[encoded data removed]",
      "text/plain": [
       "<Figure size 432x288 with 1 Axes>"
      ]
     },
     "metadata": {},
     "output_type": "display_data"
    },
    {
     "name": "stdout",
     "output_type": "stream",
     "text": [
      "22\n",
      "Genetic Algorithm solution:\n",
      "[3 4 1 2 6 0 5]\n",
      "82.02114544688217\n",
      "Brute force solution:\n",
      "[0 6 2 1 4 3 5]\n",
      "82.02114544688217\n",
      "Statistics:\n"
     ]
    },
    {
     "data": {
      "image/png": "[encoded data removed]",
      "text/plain": [
       "<Figure size 432x288 with 1 Axes>"
      ]
     },
     "metadata": {},
     "output_type": "display_data"
    }
   ],
   "source": [
    "np.random.seed(21)\n",
    "nhbr = Neighbourhood(7, 25)\n",
    "nhbr.show()\n",
    "ga = Genetic_Algorithm_TSP(nhbr)\n",
    "print(ga.population_size)\n",
    "solution, statistics = ga.solve()\n",
    "print('Genetic Algorithm solution:')\n",
    "print(solution.gene)\n",
    "print(solution.fitness)\n",
    "best_permutation, best_fitness = brute_force(nhbr)\n",
    "print('Brute force solution:')\n",
    "print(best_permutation)\n",
    "print(best_fitness)\n",
    "print('Statistics:')\n",
    "plt.plot(range(ga.max_generations), statistics['mean_fitness'])\n",
    "plt.plot(range(ga.max_generations), [individual.fitness for individual in statistics['fittest_individual']])\n",
    "plt.show()"
   ]
  },
  {
   "cell_type": "code",
   "execution_count": 15,
   "metadata": {},
   "outputs": [
    {
     "data": {
      "image/png": "[encoded data removed]",
      "text/plain": [
       "<Figure size 432x288 with 1 Axes>"
      ]
     },
     "metadata": {},
     "output_type": "display_data"
    },
    {
     "name": "stdout",
     "output_type": "stream",
     "text": [
      "27\n",
      "Genetic Algorithm solution:\n",
      "[3 5 2 4 0 1 6 7]\n",
      "85.17474144450932\n",
      "Brute force solution:\n",
      "[0 1 6 7 3 5 2 4]\n",
      "85.17474144450932\n",
      "Statistics:\n"
     ]
    },
    {
     "data": {
      "image/png": "[encoded data removed]",
      "text/plain": [
       "<Figure size 432x288 with 1 Axes>"
      ]
     },
     "metadata": {},
     "output_type": "display_data"
    }
   ],
   "source": [
    "np.random.seed(43)\n",
    "nhbr = Neighbourhood(8, 30)\n",
    "nhbr.show()\n",
    "ga = Genetic_Algorithm_TSP(nhbr)\n",
    "print(ga.population_size)\n",
    "solution, statistics = ga.solve()\n",
    "print('Genetic Algorithm solution:')\n",
    "print(solution.gene)\n",
    "print(solution.fitness)\n",
    "best_permutation, best_fitness = brute_force(nhbr)\n",
    "print('Brute force solution:')\n",
    "print(best_permutation)\n",
    "print(best_fitness)\n",
    "print('Statistics:')\n",
    "plt.plot(range(ga.max_generations), statistics['mean_fitness'])\n",
    "plt.plot(range(ga.max_generations), [individual.fitness for individual in statistics['fittest_individual']])\n",
    "plt.show()"
   ]
  },
  {
   "cell_type": "code",
   "execution_count": 16,
   "metadata": {},
   "outputs": [
    {
     "data": {
      "image/png": "[encoded data removed]",
      "text/plain": [
       "<Figure size 432x288 with 1 Axes>"
      ]
     },
     "metadata": {},
     "output_type": "display_data"
    },
    {
     "name": "stdout",
     "output_type": "stream",
     "text": [
      "32\n",
      "Genetic Algorithm solution:\n",
      "[0 5 6 2 1 4 8 3 7]\n",
      "82.91669422586659\n",
      "Brute force solution:\n",
      "[0 5 6 2 1 4 8 3 7]\n",
      "82.91669422586659\n",
      "Statistics:\n"
     ]
    },
    {
     "data": {
      "image/png": "[encoded data removed]",
      "text/plain": [
       "<Figure size 432x288 with 1 Axes>"
      ]
     },
     "metadata": {},
     "output_type": "display_data"
    }
   ],
   "source": [
    "np.random.seed(15)\n",
    "nhbr = Neighbourhood(9, 35)\n",
    "nhbr.show()\n",
    "ga = Genetic_Algorithm_TSP(nhbr)\n",
    "print(ga.population_size)\n",
    "solution, statistics = ga.solve()\n",
    "print('Genetic Algorithm solution:')\n",
    "print(solution.gene)\n",
    "print(solution.fitness)\n",
    "best_permutation, best_fitness = brute_force(nhbr)\n",
    "print('Brute force solution:')\n",
    "print(best_permutation)\n",
    "print(best_fitness)\n",
    "print('Statistics:')\n",
    "plt.plot(range(ga.max_generations), statistics['mean_fitness'])\n",
    "plt.plot(range(ga.max_generations), [individual.fitness for individual in statistics['fittest_individual']])\n",
    "plt.show()"
   ]
  },
  {
   "cell_type": "code",
   "execution_count": 15,
   "metadata": {},
   "outputs": [
    {
     "data": {
      "image/png": "[encoded data removed]",
      "text/plain": [
       "<Figure size 432x288 with 1 Axes>"
      ]
     },
     "metadata": {},
     "output_type": "display_data"
    },
    {
     "name": "stdout",
     "output_type": "stream",
     "text": [
      "65\n",
      "Genetic Algorithm solution:\n",
      "[2 0 5 3 4 1 8 6 9 7]\n",
      "81.88666461246451\n",
      "Brute force solution:\n",
      "[0 2 7 9 6 8 1 4 3 5]\n",
      "81.88666461246453\n",
      "Statistics:\n"
     ]
    },
    {
     "data": {
      "image/png": "[encoded data removed]",
      "text/plain": [
       "<Figure size 432x288 with 1 Axes>"
      ]
     },
     "metadata": {},
     "output_type": "display_data"
    }
   ],
   "source": [
    "np.random.seed(22)\n",
    "nhbr = Neighbourhood(10, 40)\n",
    "nhbr.show()\n",
    "ga = Genetic_Algorithm_TSP(nhbr, confidence = 0.999999, p_mutate = 0.42)\n",
    "print(ga.population_size)\n",
    "solution, statistics = ga.solve()\n",
    "print('Genetic Algorithm solution:')\n",
    "print(solution.gene)\n",
    "print(solution.fitness)\n",
    "best_permutation, best_fitness = brute_force(nhbr)\n",
    "print('Brute force solution:')\n",
    "print(best_permutation)\n",
    "print(best_fitness)\n",
    "print('Statistics:')\n",
    "plt.plot(range(ga.max_generations), statistics['mean_fitness'])\n",
    "plt.plot(range(ga.max_generations), [individual.fitness for individual in statistics['fittest_individual']])\n",
    "plt.show()"
   ]
  },
  {
   "cell_type": "markdown",
   "metadata": {},
   "source": [
    "### Experimenting"
   ]
  },
  {
   "cell_type": "code",
   "execution_count": null,
   "metadata": {},
   "outputs": [],
   "source": [
    "arr = np.array([[np.random.rand()*30, np.random.rand()*30]  for i in range(30)])\n",
    "print(arr.shape)\n",
    "plt.scatter(arr[:, 0], arr[:, 1])\n",
    "plt.show()\n",
    "adj_dict = {(i, j): np.linalg.norm(arr[i]-arr[j]) for i in range(arr.shape[0]) for j in range(i+1, arr.shape[0])}\n",
    "print(adj_dict)\n",
    "print(arr.shape)\n",
    "print(arr.T.shape)\n",
    "arr2= np.matmul(arr.T, arr)\n",
    "print(arr2.shape)\n",
    "matrix = 1"
   ]
  },
  {
   "cell_type": "code",
   "execution_count": null,
   "metadata": {},
   "outputs": [],
   "source": [
    "arr = np.array([[np.random.rand()*400, np.random.rand()*400]  for i in range(30)])\n",
    "print(arr)\n",
    "distances = []\n",
    "for i in range(30):\n",
    "    for j in range(30):\n",
    "        ## For dictionary of pairs\n",
    "        ## distances = {(i, j): np.linalg.norm(arr[i]-arr[j] for i in range(30) for j in range(i+1, 30)}\n",
    "        if i != j:\n",
    "             distances.append(np.linalg.norm(arr[i]-arr[j])) \n",
    "        else:\n",
    "             distances.append(1000000)        \n",
    "distances = np.array(distances).reshape((30, 30))\n",
    "print(distances.shape)\n",
    "print(distances[20])\n",
    "print(np.min(distances[20]))\n",
    "print(np.argmin(distances[20]))\n",
    "print(distances[20][12])\n",
    "print(distances)\n",
    "print(np.argmin(distances))"
   ]
  },
  {
   "cell_type": "code",
   "execution_count": null,
   "metadata": {},
   "outputs": [],
   "source": [
    "eqn_str = '1 / (1 + x**2 + y**2)'\n",
    "#x = Symbol('x')\n",
    "#y = Symbol('y')\n",
    "#i,j,k = symbols('i, j, k')\n",
    "#kernS(eqn_str)\n",
    "function = sympify(eqn_str)\n",
    "symbols = list(function.free_symbols)\n",
    "print(symbols)\n",
    "sym_val_dict = {k: np.random.rand() for k in symbols}\n",
    "print(sym_val_dict)\n",
    "deriv = function.diff(x)\n",
    "eqn_str2 = 'x+y+x+2*y-i-j*k+1'\n",
    "function2 = kernS(eqn_str2)\n",
    "deriv2 = function2.diff(x)\n",
    "print(deriv)\n",
    "print(deriv2)\n",
    "print(function+function2)\n",
    "print(2*function2)\n",
    "print(np.square(function2))\n",
    "function.evalf(subs = {x: 0, y: 1})\n",
    "f = lambdify((x, y), function)\n",
    "print(f(1, 1))\n",
    "##inequality = 'x <= 2'\n",
    "##ineq_func = sympify(inequality)\n",
    "##ineq_func.evalf(subs = {x: 1})\n",
    "zero = sympify('0')\n",
    "zero.evalf() + 1\n",
    "absolute = sympify(-x)\n",
    "absolute = abs(absolute)\n",
    "print(absolute)\n",
    "print(absolute.evalf(subs = {x: -2}))\n",
    "max_func = sympify('max(x-2, 0)')\n",
    "print(max_func.evalf(subs = {x: -3}))"
   ]
  },
  {
   "cell_type": "code",
   "execution_count": null,
   "metadata": {},
   "outputs": [],
   "source": []
  }
 ],
 "metadata": {
  "kernelspec": {
   "display_name": "Python 3",
   "language": "python",
   "name": "python3"
  },
  "language_info": {
   "codemirror_mode": {
    "name": "ipython",
    "version": 3
   },
   "file_extension": ".py",
   "mimetype": "text/x-python",
   "name": "python",
   "nbconvert_exporter": "python",
   "pygments_lexer": "ipython3",
   "version": "3.7.1"
  }
 },
 "nbformat": 4,
 "nbformat_minor": 2
}
